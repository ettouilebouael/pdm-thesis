{
  "nbformat": 4,
  "nbformat_minor": 0,
  "metadata": {
    "accelerator": "GPU",
    "colab": {
      "name": "Turbo Fan RUL estimation with LSTM.ipynb",
      "provenance": [],
      "collapsed_sections": [],
      "authorship_tag": "ABX9TyNZYgFiKr9Pkn9il5076ZUa",
      "include_colab_link": true
    },
    "kernelspec": {
      "display_name": "Python 3",
      "name": "python3"
    },
    "language_info": {
      "name": "python"
    }
  },
  "cells": [
    {
      "cell_type": "markdown",
      "metadata": {
        "id": "view-in-github",
        "colab_type": "text"
      },
      "source": [
        "<a href=\"https://colab.research.google.com/github/ettouilebouael/pdm-thesis/blob/main/Turbo_Fan_RUL_estimation_with_LSTM.ipynb\" target=\"_parent\"><img src=\"https://colab.research.google.com/assets/colab-badge.svg\" alt=\"Open In Colab\"/></a>"
      ]
    },
    {
      "cell_type": "code",
      "metadata": {
        "colab": {
          "base_uri": "https://localhost:8080/"
        },
        "id": "rQToNBEqHiJu",
        "outputId": "ab44b106-dba0-4e58-8095-3d5c3919cbf4"
      },
      "source": [
        "!pip install livelossplot --quiet\n",
        "from google.colab import drive\n",
        "drive.mount('/content/drive')\n",
        "import os\n",
        "import pandas as pd\n",
        "import numpy as np\n",
        "import matplotlib.pyplot as plt\n",
        "from sklearn.preprocessing import StandardScaler, MinMaxScaler\n",
        "import torch\n",
        "from torch.utils.data import Dataset, DataLoader\n",
        "from torch import nn\n",
        "import torch.nn.functional as F\n",
        "\n",
        "os.chdir(\"/content/drive/MyDrive/Memoire/PdM_code\")"
      ],
      "execution_count": 1,
      "outputs": [
        {
          "output_type": "stream",
          "name": "stdout",
          "text": [
            "Mounted at /content/drive\n"
          ]
        }
      ]
    },
    {
      "cell_type": "code",
      "metadata": {
        "id": "Hav5z35BqC1i"
      },
      "source": [
        "def load_data(data_num, online = False):\n",
        "  sensor_col_names = ['s_%i' % i for i in range(1,22)]\n",
        "  col_names = ['unit_number', 'time_in_cycles', 'setting_1', 'setting_2','setting_3'] + sensor_col_names\n",
        "  \n",
        "  train_path = \"CMAPSSData/train_FD00{}.txt\".format(str(data_num))\n",
        "  test_path = \"CMAPSSData/test_FD00{}.txt\".format(str(data_num))\n",
        "  RUL_path = \"CMAPSSData/RUL_FD00{}.txt\".format(str(data_num))\n",
        "\n",
        "  if online == True:\n",
        "    test  = pd.read_csv(test_path , sep = \"\\s+\", header=None, names = col_names, index_col=False).dropna(axis = 1)\n",
        "    RUL_test = pd.read_csv(RUL_path, sep = \"\\s+\", header= None, names = [\"true_rul\"], index_col= False).reset_index().rename(columns = {\"index\" :\"unit_number\"})\n",
        "    RUL_test.unit_number = RUL_test.unit_number + 1 \n",
        "    return test , RUL_test\n",
        "  else:\n",
        "    train  = pd.read_csv(train_path , sep = \" \", header=None, names = col_names, index_col=False).dropna(axis = 1)\n",
        "    return train\n",
        "\n",
        "def compute_rul(df):\n",
        "    a = df[['unit_number' , 'time_in_cycles']].groupby('unit_number').max()\n",
        "    a = a.rename({\"time_in_cycles\" : \"max_cyles\"}, axis = 1)\n",
        "    b = df.join(a, on = 'unit_number', how='outer', lsuffix=\" \")\n",
        "    df['rul'] = b.max_cyles - b.time_in_cycles\n",
        "    df['rul'] = df['rul'].clip(upper = 125)\n",
        "    return df\n",
        "\n",
        "def gen_sequence(df, unit, seq_len, features):\n",
        "  X =  df[df.unit_number == unit][features].values\n",
        "  num_elements = X.shape[0]\n",
        "  for start, stop in zip(range(0, num_elements-seq_len + 1), range(seq_len, num_elements +1)):\n",
        "       yield X[start:stop]\n",
        "\n",
        "def gen_labels(df, seq_len):\n",
        "    y = df['rul'].values\n",
        "    return y[seq_len - 1:]\n",
        "\n",
        "def get_lstm_data(df, features, seq_len):\n",
        "  X = [[seq.tolist() for seq in gen_sequence(df,unit ,seq_len,features)] for unit in df.unit_number.unique() if len(df[df.unit_number == unit]) > seq_len]\n",
        "  y = [gen_labels(df[df.unit_number == unit], seq_len).tolist() for unit in df.unit_number.unique() if len(df[df.unit_number == unit]) > seq_len]\n",
        "\n",
        "  return np.concatenate(X).astype(float), np.concatenate(y).astype(float)\n",
        "\n",
        "def condition_scaler(df):\n",
        "  scaler = MinMaxScaler(feature_range=(-1,1))\n",
        "  # sensor_col_names = ['s_%i' % i for i in range(1,22)]\n",
        "\n",
        "  # df['setting_1'] = df['setting_1'].round(3)\n",
        "  # df['setting_2'] = df['setting_2'].round(4)\n",
        "  \n",
        "  # df['op_cond'] = df['setting_1'].astype(str) + '_' + \\\n",
        "  #                   df['setting_2'].astype(str) + '_' + \\\n",
        "  #                     df['setting_3'].astype(str)\n",
        "\n",
        "  # for condition in df['op_cond'].unique():\n",
        "  #     scaler.fit(df.loc[df['op_cond']==condition, sensor_col_names])\n",
        "  #     df.loc[df['op_cond']==condition, sensor_col_names] = scaler.transform(df.loc[df['op_cond']==condition, sensor_col_names])\n",
        "\n",
        "  df[features] = scaler.fit_transform(df[features])\n",
        "    \n",
        "  return df\n",
        "\n",
        "\n",
        "def exponential_smoothing(df, sensors):\n",
        "    # first, calculate the exponential weighted mean of desired sensors\n",
        "    df[sensors] = df.groupby('unit_number')[sensors].apply(lambda x: x.ewm(30).mean()).values\n",
        "  \n",
        "    return df\n",
        "\n",
        "\n",
        "def denoise(df, features):\n",
        "  for var in features:\n",
        "    for unit in df.unit_number.unique():\n",
        "     signal = df[df.unit_number == unit][var].values\n",
        "     signal = denoise_wavelet(signal,wavelet='sym2', mode='soft', wavelet_levels=4, rescale_sigma=True)\n",
        "     df.loc[df.unit_number == unit,var] = signal\n",
        "  return df\n",
        "\n",
        "# def condition_scaler(df):\n",
        "#   scaler = MinMaxScaler()\n",
        "#   sensor_col_names = ['s_%i' % i for i in range(1,22)]\n",
        "#   for feature in sensor_col_names:\n",
        "#     for unit in df.unit_number.unique():\n",
        "#       df.loc[df.unit_number == unit,feature] = scaler.fit_transform(df[df.unit_number == unit][feature].values.reshape(-1,1))\n",
        "#   return df\n",
        "\n",
        "def train_preprocessing(data_num,features, seq_len):\n",
        "  train = load_data(data_num)\n",
        "  X = compute_rul(train)\n",
        "  X = denoise(X,features)\n",
        "  X = condition_scaler(X)\n",
        "  X_train, y_train = get_lstm_data(X, features, seq_len)\n",
        "  return X_train, y_train\n",
        "\n",
        "\n",
        "def get_online_test_unit(df, features, seq_len):\n",
        "  X = []\n",
        "  for i in features:\n",
        "    online_test_unit = []\n",
        "    x = []\n",
        "    for unit in df.unit_number.unique():\n",
        "      signal = df[i][df.unit_number == unit].values.tolist()\n",
        "      if len(signal) >= seq_len :\n",
        "        x.append(signal[-seq_len:])\n",
        "        online_test_unit.append(unit)\n",
        "    X.append(x)\n",
        "  return np.array(X).transpose(1,2,0), list(set(online_test_unit))\n",
        "\n",
        "\n",
        "def online_preprocessing(data_num, features, seq_len):\n",
        "  online_df , rul = load_data(data_num=data_num, online = True)\n",
        "  X = denoise(online_df,features)\n",
        "  X_online_scaled = condition_scaler(online_df)\n",
        "  X_online, online_test_unit = get_online_test_unit(X_online_scaled, features, seq_len)\n",
        "  y_online = rul.true_rul[rul.unit_number.isin(online_test_unit)].clip(upper = 125).values\n",
        "  return X_online , y_online\n",
        "\n",
        "class TurboFanDataset(Dataset):\n",
        "  def __init__(self, X, y):\n",
        "    self.X, self.y = X, y\n",
        "    \n",
        "  def __len__(self):\n",
        "    return self.X.shape[0]\n",
        "\n",
        "  def __getitem__(self, ix):\n",
        "    return torch.from_numpy(self.X[ix,:,:]).float() , torch.from_numpy(np.array(self.y[ix])).float()\n",
        "\n"
      ],
      "execution_count": 268,
      "outputs": []
    },
    {
      "cell_type": "code",
      "metadata": {
        "id": "xqMhtBO3aK-O"
      },
      "source": [
        "features =['s_2', 's_3', 's_4', 's_6', 's_7', 's_8', 's_9','s_11', 's_12', 's_13', 's_14', 's_15', 's_17', 's_20', 's_21']\n",
        "#features =['s_21']\n",
        "\n",
        "seq_len = 30\n",
        "data_num = 1\n",
        "batch_size = 128\n",
        "learning_rate = 1e-4\n",
        "epochs = 15\n",
        "X_train, y_train = train_preprocessing(data_num,features, seq_len)\n",
        "\n",
        "dataset = {\n",
        "    'train': TurboFanDataset(X_train, y_train),\n",
        "    'test': TurboFanDataset(X_test, y_test)}\n",
        "\n",
        "dataloader = {\n",
        "    'train': DataLoader(dataset['train'], shuffle=False, batch_size=batch_size),\n",
        "    'test': DataLoader(dataset['test'], shuffle=False, batch_size=batch_size)}\n"
      ],
      "execution_count": 269,
      "outputs": []
    },
    {
      "cell_type": "code",
      "metadata": {
        "colab": {
          "base_uri": "https://localhost:8080/"
        },
        "id": "j29CjvR74wSx",
        "outputId": "90a46e6f-0a29-4d54-a94c-be0815563d70"
      },
      "source": [
        "class RULPredictor(torch.nn.Module):\n",
        "  def __init__(self):\n",
        "    super().__init__()\n",
        "    self.lstm = nn.LSTM(input_size=15, hidden_size=32, num_layers = 3, batch_first = True, dropout = 0.2)\n",
        "    self.fc11 = torch.nn.Linear(32, 1)\n",
        "    self.fc1 = torch.nn.Linear(32, 64)\n",
        "    self.fc2 = torch.nn.Linear(64, 32)\n",
        "    self.fc3 = torch.nn.Linear(32, 16)\n",
        "    self.output = torch.nn.Linear(16, 1)\n",
        "    self.dropout = torch.nn.Dropout(p=0.2)\n",
        "    \n",
        "  def forward(self, x):\n",
        "    output, (h, c) = self.lstm(x)\n",
        "    x = self.fc1(h[-1].reshape(-1,32))\n",
        "    x = self.dropout(x)\n",
        "    x = self.fc2(x)\n",
        "    x = F.relu(x)\n",
        "    x = self.fc3(x)\n",
        "    x = self.dropout(x)\n",
        "    x = F.relu(x)\n",
        "    x = self.output(x)\n",
        "    return x\n",
        "\n",
        "\n",
        "\n",
        "model = RULPredictor()\n",
        "model(torch.randn(64, 30, 15)).shape"
      ],
      "execution_count": 270,
      "outputs": [
        {
          "output_type": "execute_result",
          "data": {
            "text/plain": [
              "torch.Size([64, 1])"
            ]
          },
          "metadata": {},
          "execution_count": 270
        }
      ]
    },
    {
      "cell_type": "code",
      "metadata": {
        "colab": {
          "base_uri": "https://localhost:8080/",
          "height": 636
        },
        "id": "2m5DrJp_5ZYm",
        "outputId": "edd41b22-f1df-4e5e-ae8a-0afac4bc6a47"
      },
      "source": [
        "from livelossplot import PlotLosses\n",
        "import warnings\n",
        "warnings.filterwarnings(\"ignore\")\n",
        "X_online, rul_online = online_preprocessing(data_num, features,seq_len)\n",
        "\n",
        "device = \"cuda\" if torch.cuda.is_available() else \"cpu\"\n",
        "\n",
        "def fit(model, dataloader, epochs=10):\n",
        "    liveloss = PlotLosses()\n",
        "    model.to(device)\n",
        "    optimizer = torch.optim.Adam(model.parameters(), lr=learning_rate)\n",
        "    criterion = torch.nn.MSELoss()\n",
        "    for epoch in range(1, epochs+1):\n",
        "        model.train()\n",
        "        train_loss = []\n",
        "        eval_loss = []\n",
        "        logs = {}\n",
        "        for batch in dataloader['train']:\n",
        "            X, y = batch\n",
        "            X, y = X.to(device), y.to(device)\n",
        "            optimizer.zero_grad()\n",
        "            y_hat = model(X)\n",
        "            loss = criterion(y_hat, y.reshape(-1,1))\n",
        "            loss.backward()\n",
        "            optimizer.step()\n",
        "            train_loss.append(loss.item())\n",
        "        model.eval()\n",
        "        with torch.no_grad():\n",
        "          X = torch.from_numpy(X_online).float().to(device)\n",
        "          y = torch.from_numpy(rul_online).float().to(device)\n",
        "          y_hat = model(X)\n",
        "          loss = criterion(y_hat, y.reshape(-1,1))\n",
        "          eval_loss.append(loss.item())\n",
        "\n",
        "          logs[\"loss\"] = np.sqrt(np.mean(train_loss))\n",
        "          logs[\"val_loss\"] = np.sqrt(np.mean(eval_loss))\n",
        "\n",
        "      \n",
        "          liveloss.update(logs)\n",
        "          liveloss.send()\n",
        "\n",
        "fit(model, dataloader, epochs =40)"
      ],
      "execution_count": 271,
      "outputs": [
        {
          "output_type": "display_data",
          "data": {
            "image/png": "[encoded data removed]",
            "text/plain": [
              "<Figure size 864x576 with 2 Axes>"
            ]
          },
          "metadata": {
            "needs_background": "light"
          }
        },
        {
          "output_type": "stream",
          "name": "stdout",
          "text": [
            "Loss\n",
            "\ttraining         \t (min:   21.646, max:   90.480, cur:   21.646)\n",
            "\tvalidation       \t (min:   25.214, max:   84.157, cur:   25.592)\n"
          ]
        }
      ]
    },
    {
      "cell_type": "code",
      "metadata": {
        "id": "O64K2yOnOPhg",
        "colab": {
          "base_uri": "https://localhost:8080/"
        },
        "outputId": "98e430eb-246d-429f-b589-70704936aeeb"
      },
      "source": [
        " def get_online_indexes(df,seq_len):\n",
        "  ids = []\n",
        "  for unit in df.unit_number.unique():\n",
        "    if len(df[df.unit_number == unit]) > seq_len :\n",
        "      indexes = df[df.unit_number == unit].index.values\n",
        "      indexes = indexes[seq_len - 1:]\n",
        "      ids.extend(indexes)\n",
        "  return ids\n",
        " \n",
        " def annotate_online_data(X,y):\n",
        "  rul = []\n",
        "  for unit in X.unit_number.unique():\n",
        "    last_rul = y[y.unit_number == unit].true_rul.values[0]\n",
        "    first_rul = last_rul + len(X[X.unit_number == unit]) + 1\n",
        "    unit_rul = np.arange(first_rul, last_rul + 1, -1).tolist()\n",
        "    rul.extend(unit_rul)\n",
        "  return np.array(rul).clip(1,125)\n",
        "\n",
        "def get_online_unit(df, seq_len):\n",
        "  units = []\n",
        "  for unit in df.unit_number.unique():\n",
        "    if len(df[df.unit_number == unit]) > seq_len:\n",
        "      units.extend(unit)\n",
        "  return units\n",
        "\n",
        "data_num = 1\n",
        "online_df , y = load_data(data_num,online=True)\n",
        "online_df[\"rul\"] = annotate_online_data(online_df , y)\n",
        "warnings.filterwarnings(\"ignore\")\n",
        "online_df = denoise(online_df,features)\n",
        "online_df = condition_scaler(online_df)\n",
        "X , y = get_lstm_data(online_df, features, seq_len)\n",
        "print('X shape ', X.shape)\n",
        "\n",
        "ids_in = get_online_indexes(online_df, seq_len)\n",
        "ids_all = online_df.index.values\n",
        "online_df_pred = online_df[np.isin(ids_all,ids_in)]\n",
        "print('online_df_pred shape ', online_df_pred.shape)\n",
        "\n",
        "loss = torch.nn.MSELoss()\n",
        "model.eval()\n",
        "model.to(device)\n",
        "with torch.no_grad():\n",
        "  X = torch.from_numpy(X).float().to(device)\n",
        "  y = torch.from_numpy(y).float().to(device)\n",
        "  y_pred = model(X)\n",
        "  mse = loss(y_pred, y.reshape(-1,1))\n",
        "  print('rmse', np.sqrt(mse.item()))\n",
        "\n",
        "online_df_pred.loc[:,'rul_pred'] = y_pred.cpu().numpy()"
      ],
      "execution_count": 272,
      "outputs": [
        {
          "output_type": "stream",
          "name": "stdout",
          "text": [
            "X shape  (10196, 30, 15)\n",
            "online_df_pred shape  (10196, 27)\n",
            "rmse 25.863983020327346\n"
          ]
        }
      ]
    },
    {
      "cell_type": "code",
      "metadata": {
        "colab": {
          "base_uri": "https://localhost:8080/",
          "height": 282
        },
        "id": "DY5qdMN52jdP",
        "outputId": "62fbaed7-0067-44fd-de52-21d94303c9ce"
      },
      "source": [
        "plt.plot(online_df_pred[online_df_pred.unit_number == 77]['rul'])\n",
        "plt.plot(online_df_pred[online_df_pred.unit_number == 77]['rul_pred'])"
      ],
      "execution_count": 279,
      "outputs": [
        {
          "output_type": "execute_result",
          "data": {
            "text/plain": [
              "[<matplotlib.lines.Line2D at 0x7fee67541690>]"
            ]
          },
          "metadata": {},
          "execution_count": 279
        },
        {
          "output_type": "display_data",
          "data": {
            "image/png": "[encoded data removed]",
            "text/plain": [
              "<Figure size 432x288 with 1 Axes>"
            ]
          },
          "metadata": {
            "needs_background": "light"
          }
        }
      ]
    },
    {
      "cell_type": "code",
      "metadata": {
        "id": "W_38QEykLd6T"
      },
      "source": [
        ""
      ],
      "execution_count": null,
      "outputs": []
    }
  ]
}