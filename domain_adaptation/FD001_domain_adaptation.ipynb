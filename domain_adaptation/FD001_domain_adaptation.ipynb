{
  "nbformat": 4,
  "nbformat_minor": 0,
  "metadata": {
    "colab": {
      "name": "FD001 - Turbo Fan RUL estimation with LSTM.ipynb",
      "provenance": [],
      "collapsed_sections": [],
      "authorship_tag": "ABX9TyP9CR3Ts3y1Z/LguwRFDJSC",
      "include_colab_link": true
    },
    "kernelspec": {
      "display_name": "Python 3",
      "name": "python3"
    },
    "language_info": {
      "name": "python"
    }
  },
  "cells": [
    {
      "cell_type": "markdown",
      "metadata": {
        "id": "view-in-github",
        "colab_type": "text"
      },
      "source": [
        "<a href=\"https://colab.research.google.com/github/ettouilebouael/pdm-thesis/blob/main/domain_adaptation/FD001_domain_adaptation.ipynb\" target=\"_parent\"><img src=\"https://colab.research.google.com/assets/colab-badge.svg\" alt=\"Open In Colab\"/></a>"
      ]
    },
    {
      "cell_type": "code",
      "metadata": {
        "id": "rQToNBEqHiJu",
        "colab": {
          "base_uri": "https://localhost:8080/"
        },
        "outputId": "1785377f-d7e4-4fb4-cae1-802ccaa0350a"
      },
      "source": [
        "!pip install livelossplot --quiet\n",
        "\n",
        "from google.colab import drive\n",
        "import os\n",
        "import pandas as pd\n",
        "import numpy as np\n",
        "import matplotlib.pyplot as plt\n",
        "from sklearn.preprocessing import StandardScaler, MinMaxScaler, RobustScaler\n",
        "from skimage.restoration import denoise_wavelet\n",
        "import torch\n",
        "from torch.utils.data import Dataset, DataLoader\n",
        "from torch import nn\n",
        "import torch.nn.functional as F\n",
        "import random\n",
        "\n",
        "drive.mount('/content/drive')\n",
        "os.chdir(\"/content/drive/MyDrive/Memoire/PdM_code\")\n",
        "\n",
        "from models import *\n",
        "from torch_modules import *\n",
        "from utils import *\n",
        "\n",
        "random.seed(0)\n",
        "torch.manual_seed(0) \n",
        "np.random.seed(0)\n"
      ],
      "execution_count": 1,
      "outputs": [
        {
          "output_type": "stream",
          "name": "stdout",
          "text": [
            "Mounted at /content/drive\n"
          ]
        }
      ]
    },
    {
      "cell_type": "code",
      "metadata": {
        "id": "LRfecXh243Gn"
      },
      "source": [
        "features =['s_2', 's_3', 's_4', 's_7', 's_8', 's_9','s_11', 's_12', 's_13', 's_14', 's_15', 's_17', 's_20', 's_21']\n",
        "\n",
        "seq_len = 30\n",
        "data_num = 1\n",
        "batch_size = 128\n",
        "learning_rate = 1e-4\n",
        "epochs = 15\n",
        "dropout = 0\n",
        "input_size = len(features)\n",
        "n_lstm_layers = 3\n",
        "n_hidden_lstm = 32"
      ],
      "execution_count": 2,
      "outputs": []
    },
    {
      "cell_type": "code",
      "metadata": {
        "id": "T4Nod4unuAgv"
      },
      "source": [
        "X_train, y_train = train_preprocessing(data_num,features, seq_len)\n",
        "X_test, y_test = online_preprocessing(data_num,features, seq_len)\n",
        "\n",
        "dataset = {\n",
        "    'train': TurboFanDataset(X_train, y_train),\n",
        "    'test': TurboFanDataset(X_test, y_test)}\n",
        "\n",
        "dataloader = {\n",
        "    'train': DataLoader(dataset['train'], shuffle=True, batch_size=batch_size),\n",
        "     'test': DataLoader(dataset['test'], shuffle=False, batch_size=batch_size)}"
      ],
      "execution_count": 3,
      "outputs": []
    },
    {
      "cell_type": "code",
      "metadata": {
        "id": "9n6r5C_jIVxh"
      },
      "source": [
        "encoder = Encoder(input_size, n_hidden_lstm, n_lstm_layers, dropout)\n",
        "rul_predictor = RULPredictor(n_hidden_lstm, dropout)"
      ],
      "execution_count": 52,
      "outputs": []
    },
    {
      "cell_type": "code",
      "metadata": {
        "id": "0Fx5c61Qi95O"
      },
      "source": [
        "encoder_state_dict = torch.load(\"/content/drive/MyDrive/Memoire/PdM_code/models/fd001/encoder_fd001_rmse_20.41266917843625\", map_location=torch.device('cpu'))\n",
        "rul_predictor_state_dict = torch.load(\"/content/drive/MyDrive/Memoire/PdM_code/models/fd001/rul_predictor_fd001_rmse_20.41266917843625\", map_location=torch.device('cpu'))"
      ],
      "execution_count": 51,
      "outputs": []
    },
    {
      "cell_type": "code",
      "metadata": {
        "id": "GpGVSz3WkEcT",
        "outputId": "3fd0c16d-61be-4456-bafb-a4eaa303c5a9",
        "colab": {
          "base_uri": "https://localhost:8080/"
        }
      },
      "source": [
        "encoder.load_state_dict(encoder_state_dict)\n",
        "rul_predictor.load_state_dict(rul_predictor_state_dict)"
      ],
      "execution_count": 54,
      "outputs": [
        {
          "output_type": "execute_result",
          "data": {
            "text/plain": [
              "<All keys matched successfully>"
            ]
          },
          "metadata": {},
          "execution_count": 54
        }
      ]
    },
    {
      "cell_type": "code",
      "metadata": {
        "id": "aQoOtcUakpBq",
        "outputId": "0c7d0904-04c0-4b40-c3a8-2e5eb6fa96bf",
        "colab": {
          "base_uri": "https://localhost:8080/"
        }
      },
      "source": [
        "X = torch.from_numpy(X_test).float().cpu()\n",
        "y = torch.from_numpy(y_test).float().cpu()\n",
        "h = encoder(X)\n",
        "y_hat = rul_predictor(h)\n",
        "\n",
        "torch.sqrt(torch.nn.functional.mse_loss(y,y_hat))"
      ],
      "execution_count": 56,
      "outputs": [
        {
          "output_type": "execute_result",
          "data": {
            "text/plain": [
              "tensor(20.4127, grad_fn=<SqrtBackward>)"
            ]
          },
          "metadata": {},
          "execution_count": 56
        }
      ]
    }
  ]
}