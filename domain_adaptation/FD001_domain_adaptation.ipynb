{
  "nbformat": 4,
  "nbformat_minor": 0,
  "metadata": {
    "colab": {
      "name": "FD001 - Turbo Fan RUL estimation with LSTM.ipynb",
      "provenance": [],
      "collapsed_sections": [],
      "authorship_tag": "ABX9TyPy2Vw7gPjqI/m5GhstySYp",
      "include_colab_link": true
    },
    "kernelspec": {
      "display_name": "Python 3",
      "name": "python3"
    },
    "language_info": {
      "name": "python"
    }
  },
  "cells": [
    {
      "cell_type": "markdown",
      "metadata": {
        "id": "view-in-github",
        "colab_type": "text"
      },
      "source": [
        "<a href=\"https://colab.research.google.com/github/ettouilebouael/pdm-thesis/blob/main/domain_adaptation/FD001_domain_adaptation.ipynb\" target=\"_parent\"><img src=\"https://colab.research.google.com/assets/colab-badge.svg\" alt=\"Open In Colab\"/></a>"
      ]
    },
    {
      "cell_type": "code",
      "metadata": {
        "id": "rQToNBEqHiJu",
        "colab": {
          "base_uri": "https://localhost:8080/"
        },
        "outputId": "1785377f-d7e4-4fb4-cae1-802ccaa0350a"
      },
      "source": [
        "!pip install livelossplot --quiet\n",
        "\n",
        "from google.colab import drive\n",
        "import os\n",
        "import pandas as pd\n",
        "import numpy as np\n",
        "import matplotlib.pyplot as plt\n",
        "from sklearn.preprocessing import StandardScaler, MinMaxScaler, RobustScaler\n",
        "from skimage.restoration import denoise_wavelet\n",
        "import torch\n",
        "from torch.utils.data import Dataset, DataLoader\n",
        "from torch import nn\n",
        "import torch.nn.functional as F\n",
        "import random\n",
        "\n",
        "drive.mount('/content/drive')\n",
        "os.chdir(\"/content/drive/MyDrive/Memoire/PdM_code\")\n",
        "\n",
        "from models import *\n",
        "from torch_modules import *\n",
        "from utils import *\n",
        "\n",
        "random.seed(0)\n",
        "torch.manual_seed(0) \n",
        "np.random.seed(0)\n"
      ],
      "execution_count": 1,
      "outputs": [
        {
          "output_type": "stream",
          "name": "stdout",
          "text": [
            "Mounted at /content/drive\n"
          ]
        }
      ]
    },
    {
      "cell_type": "code",
      "metadata": {
        "id": "LRfecXh243Gn"
      },
      "source": [
        "features =['s_2', 's_3', 's_4', 's_7', 's_8', 's_9','s_11', 's_12', 's_13', 's_14', 's_15', 's_17', 's_20', 's_21']\n",
        "\n",
        "seq_len = 30\n",
        "data_num_s = 1\n",
        "data_num_t = 2\n",
        "batch_size = 128\n",
        "learning_rate = 1e-4\n",
        "epochs = 15\n",
        "dropout = 0\n",
        "input_size = len(features)\n",
        "n_lstm_layers = 3\n",
        "n_hidden_lstm = 32"
      ],
      "execution_count": 58,
      "outputs": []
    },
    {
      "cell_type": "code",
      "metadata": {
        "id": "T4Nod4unuAgv"
      },
      "source": [
        "X_train_s, y_train_s = train_preprocessing(data_num_s,features, seq_len)\n",
        "X_test_s, y_test_s = online_preprocessing(data_num_s,features, seq_len)\n",
        "\n",
        "dataset_s = {\n",
        "    'train': TurboFanDataset(X_train_s, y_train_s),\n",
        "    'test': TurboFanDataset(X_test_s , y_test_s)}\n",
        "\n",
        "dataloader_s = {\n",
        "    'train': DataLoader(dataset['train'], shuffle=True, batch_size=batch_size),\n",
        "     'test': DataLoader(dataset['test'], shuffle=False, batch_size=batch_size)}"
      ],
      "execution_count": 57,
      "outputs": []
    },
    {
      "cell_type": "code",
      "metadata": {
        "id": "-ZqIYxr6lxi7"
      },
      "source": [
        "X_train_t, y_train_t = train_preprocessing(data_num_t,features, seq_len)\n",
        "X_test_t, y_test_t = online_preprocessing(data_num_t,features, seq_len)\n",
        "\n",
        "dataset_t = {\n",
        "    'train': TurboFanDataset(X_train_t, y_train_t),\n",
        "    'test': TurboFanDataset(X_test_t , y_test_t)}\n",
        "\n",
        "dataloader_t = {\n",
        "    'train': DataLoader(dataset['train'], shuffle=True, batch_size=batch_size ),\n",
        "     'test': DataLoader(dataset['test'], shuffle=False, batch_size=batch_size)}"
      ],
      "execution_count": 59,
      "outputs": []
    },
    {
      "cell_type": "code",
      "metadata": {
        "id": "9n6r5C_jIVxh"
      },
      "source": [
        "encoder_s = Encoder(input_size, n_hidden_lstm, n_lstm_layers, dropout)\n",
        "rul_predictor_s = RULPredictor(n_hidden_lstm, dropout)"
      ],
      "execution_count": 60,
      "outputs": []
    },
    {
      "cell_type": "code",
      "metadata": {
        "id": "0Fx5c61Qi95O"
      },
      "source": [
        "encoder_s_state_dict = torch.load(\"/content/drive/MyDrive/Memoire/PdM_code/models/fd001/encoder_fd001_rmse_20.41266917843625\", map_location=torch.device('cpu'))\n",
        "rul_predictor_s_state_dict = torch.load(\"/content/drive/MyDrive/Memoire/PdM_code/models/fd001/rul_predictor_fd001_rmse_20.41266917843625\", map_location=torch.device('cpu'))"
      ],
      "execution_count": 61,
      "outputs": []
    },
    {
      "cell_type": "code",
      "metadata": {
        "colab": {
          "base_uri": "https://localhost:8080/"
        },
        "id": "GpGVSz3WkEcT",
        "outputId": "5729de01-ecdd-4857-fbd7-058ccbad8219"
      },
      "source": [
        "encoder_s.load_state_dict(encoder_s_state_dict)\n",
        "rul_predictor_s.load_state_dict(rul_predictor_s_state_dict)"
      ],
      "execution_count": 64,
      "outputs": [
        {
          "output_type": "execute_result",
          "data": {
            "text/plain": [
              "<All keys matched successfully>"
            ]
          },
          "metadata": {},
          "execution_count": 64
        }
      ]
    },
    {
      "cell_type": "code",
      "metadata": {
        "id": "aQoOtcUakpBq"
      },
      "source": [
        "with torch.no_grad(): \n",
        "  X = torch.from_numpy(X_test_t).float().cpu()\n",
        "  y = torch.from_numpy(y_test_t).float().cpu()\n",
        "  h = encoder_s(X)\n",
        "  y_hat = rul_predictor_s(h)\n",
        "\n",
        "  torch.sqrt(torch.nn.functional.mse_loss(y,y_hat))"
      ],
      "execution_count": 67,
      "outputs": []
    },
    {
      "cell_type": "code",
      "metadata": {
        "id": "fgj4vsbpmiVr",
        "outputId": "0de1b2d8-1446-4cb7-e3a8-9f910bf5a2e2",
        "colab": {
          "base_uri": "https://localhost:8080/"
        }
      },
      "source": [
        "n_batches = min(len(dataset_s['train']) // batch_size + 1, len(dataset_t['train']) // batch_size + 1)\n",
        "n_batches"
      ],
      "execution_count": 72,
      "outputs": [
        {
          "output_type": "execute_result",
          "data": {
            "text/plain": [
              "139"
            ]
          },
          "metadata": {},
          "execution_count": 72
        }
      ]
    },
    {
      "cell_type": "code",
      "metadata": {
        "id": "NIJxJrminnLD"
      },
      "source": [
        "class Discriminator(torch.nn.Module):\n",
        "\n",
        "\n",
        "  def __init__(self, n_hidden_lstm,dropout):\n",
        "    super().__init__()\n",
        "    self.n_hidden_lstm = n_hidden_lstm\n",
        "    self.fc1 = torch.nn.Linear(n_hidden_lstm, 64)\n",
        "    self.fc2 = torch.nn.Linear(64, 32)\n",
        "    self.fc3 = torch.nn.Linear(32, 16)\n",
        "    self.output = torch.nn.Linear(16, 1)\n",
        "    self.dropout = torch.nn.Dropout(p=dropout)\n",
        "\n",
        "  def forward(self, x):\n",
        "    x = self.fc1(x)\n",
        "    x = F.relu(x)\n",
        "    x - self.dropout(x)\n",
        "    x = self.fc2(x)\n",
        "    x = F.relu(x)\n",
        "    x - self.dropout(x)\n",
        "    x = self.fc3(x)\n",
        "    x = F.relu(x)\n",
        "    x - self.dropout(x)\n",
        "    x = self.output(x)\n",
        "    F.sigmoid(x)\n",
        "    return x"
      ],
      "execution_count": 73,
      "outputs": []
    },
    {
      "cell_type": "code",
      "metadata": {
        "id": "l_2sOWoNn4tK",
        "outputId": "09c64b2b-df5e-4145-bfa2-d797ed35db78",
        "colab": {
          "base_uri": "https://localhost:8080/",
          "height": 232
        }
      },
      "source": [
        "discriminator = Discriminator(n_hidden_lstm, dropout)\n",
        "encoder\n",
        "device = \"cuda\" if torch.cuda.is_available() else \"cpu\"\n",
        "\n",
        "encoder_s.to(device)\n",
        "rul_predictor_s.to(device)\n",
        "discriminator.to(device)\n",
        "\n",
        "\n",
        "optimizer_ds = torch.optim.Adam(discriminator.parameters(), learning_rate)\n",
        "optimizer_encoder = torch.optim.Adam(encoder_t.parameters(), learning_rate)\n",
        "\n",
        "encoder_s.train()\n",
        "rul_predictor_s.train()\n",
        "discriminator.train()\n",
        "\n"
      ],
      "execution_count": 76,
      "outputs": [
        {
          "output_type": "error",
          "ename": "NameError",
          "evalue": "ignored",
          "traceback": [
            "\u001b[0;31m---------------------------------------------------------------------------\u001b[0m",
            "\u001b[0;31mNameError\u001b[0m                                 Traceback (most recent call last)",
            "\u001b[0;32m<ipython-input-76-e646b7a178b9>\u001b[0m in \u001b[0;36m<module>\u001b[0;34m()\u001b[0m\n\u001b[1;32m      9\u001b[0m \u001b[0;34m\u001b[0m\u001b[0m\n\u001b[1;32m     10\u001b[0m \u001b[0moptimizer_ds\u001b[0m \u001b[0;34m=\u001b[0m \u001b[0mtorch\u001b[0m\u001b[0;34m.\u001b[0m\u001b[0moptim\u001b[0m\u001b[0;34m.\u001b[0m\u001b[0mAdam\u001b[0m\u001b[0;34m(\u001b[0m\u001b[0mdiscriminator\u001b[0m\u001b[0;34m.\u001b[0m\u001b[0mparameters\u001b[0m\u001b[0;34m(\u001b[0m\u001b[0;34m)\u001b[0m\u001b[0;34m,\u001b[0m \u001b[0mlearning_rate\u001b[0m\u001b[0;34m)\u001b[0m\u001b[0;34m\u001b[0m\u001b[0;34m\u001b[0m\u001b[0m\n\u001b[0;32m---> 11\u001b[0;31m \u001b[0moptimizer_encoder\u001b[0m \u001b[0;34m=\u001b[0m \u001b[0mtorch\u001b[0m\u001b[0;34m.\u001b[0m\u001b[0moptim\u001b[0m\u001b[0;34m.\u001b[0m\u001b[0mAdam\u001b[0m\u001b[0;34m(\u001b[0m\u001b[0mencoder_t\u001b[0m\u001b[0;34m.\u001b[0m\u001b[0mparameters\u001b[0m\u001b[0;34m(\u001b[0m\u001b[0;34m)\u001b[0m\u001b[0;34m,\u001b[0m \u001b[0mlearning_rate\u001b[0m\u001b[0;34m)\u001b[0m\u001b[0;34m\u001b[0m\u001b[0;34m\u001b[0m\u001b[0m\n\u001b[0m\u001b[1;32m     12\u001b[0m \u001b[0;34m\u001b[0m\u001b[0m\n\u001b[1;32m     13\u001b[0m \u001b[0mencoder_s\u001b[0m\u001b[0;34m.\u001b[0m\u001b[0mtrain\u001b[0m\u001b[0;34m(\u001b[0m\u001b[0;34m)\u001b[0m\u001b[0;34m\u001b[0m\u001b[0;34m\u001b[0m\u001b[0m\n",
            "\u001b[0;31mNameError\u001b[0m: name 'encoder_t' is not defined"
          ]
        }
      ]
    },
    {
      "cell_type": "code",
      "metadata": {
        "id": "FKx7p3ruoOVW"
      },
      "source": [
        ""
      ],
      "execution_count": null,
      "outputs": []
    },
    {
      "cell_type": "code",
      "metadata": {
        "id": "YgpiI5NMpb9f"
      },
      "source": [
        "\n",
        "optimizer_ds = optim.SGD(discriminator.parameters(), lr, weight_decay=0.01)\n",
        "optimizer_encoder = optim.SGD(encoder_t.parameters(), lr, weight_decay=0.01)\n",
        "loss_fn_domain =  nn.CrossEntropyLoss()\n",
        "loss_fn_target_encoder =  nn.CrossEntropyLoss()\n",
        "discriminator.to(device)\n",
        "encoder_s.to(device)\n",
        "encoder_t.to(device)\n",
        "encoder_s.eval()\n",
        "features = encoder_s(X_test_tg)\n",
        "y_hat = rul_predictor(features)\n",
        "y = y_test_tg\n",
        "rmse_t_val = rmse_fn(y_hat, y.reshape(-1,1))\n",
        "rmse_t_val\n",
        "encoder_s.train()\n",
        "\n",
        "best_rmse = 100000\n",
        "\n",
        "for epoch_idx in range(n_epochs):\n",
        "  \n",
        "    print(f'Epoch {epoch_idx+1:04d} / {n_epochs:04d}', end='\\n=================\\n')\n",
        "    discriminator_acc = []\n",
        "    loss_encoder_t = []\n",
        "\n",
        "    for b in range(batches):\n",
        "      \n",
        "      discriminator.train()\n",
        "      encoder_t.train()\n",
        "      # === train discrimantor\n",
        "      X_s = X_train_sc[:,b*batch_size:(b+1)*batch_size,:]\n",
        "      X_t = X_train_tg[:,b*batch_size:(b+1)*batch_size,:]\n",
        "\n",
        "      optimizer_ds.zero_grad()\n",
        "\n",
        "      features_s = encoder_s(X_s)\n",
        "      features_t = encoder_t(X_t)\n",
        "      features = torch.cat((features_s, features_t), 0).cuda()\n",
        "\n",
        "      labels_s = torch.ones(features_s.size(0)).long()\n",
        "      labels_t = torch.zeros(features_t.size(0)).long()\n",
        "      labels = torch.cat((labels_s, labels_t), 0 ).cuda()\n",
        "\n",
        "      domain_pred = discriminator(features)\n",
        "  \n",
        "\n",
        "      domain_loss = loss_fn_domain(domain_pred, labels)\n",
        "\n",
        "      domain_loss.backward()\n",
        "\n",
        "      optimizer_ds.step()\n",
        "\n",
        "      classes = (domain_pred > 0.5).float()[:,1]\n",
        "      ds_acc_current = (classes == labels).float().mean()\n",
        "      discriminator_acc.append(ds_acc_current.item())\n",
        "      \n",
        "\n",
        "      # === train encoder\n",
        "\n",
        "      optimizer_ds.zero_grad()\n",
        "      optimizer_encoder.zero_grad()\n",
        "\n",
        "      features_t = encoder_t(X_t)\n",
        "\n",
        "      pred_domain  = discriminator(features_t)\n",
        "\n",
        "      labels = torch.ones(features_t.size(0)).long().cuda()\n",
        "\n",
        "      loss_encoder_t_current = loss_fn_target_encoder(pred_domain, labels)\n",
        "\n",
        "      loss_encoder_t_current.backward()\n",
        "\n",
        "      optimizer_encoder.step()\n",
        "\n",
        "      loss_encoder_t.append(loss_encoder_t_current.item())\n",
        "\n",
        "    # === targer domain rul prediction evaluation\n",
        "    with torch.no_grad():\n",
        "      encoder_t.eval()\n",
        "\n",
        "      features = encoder_t(X_test_tg)\n",
        "      y_hat = rul_predictor(features)\n",
        "      y = y_test_tg\n",
        "      rmse_t_val = rmse_fn(y_hat, y.reshape(-1,1))\n",
        "      \n",
        "      if rmse_t_val.item() < best_rmse:\n",
        "        best_rmse = rmse_t_val.item()\n",
        "        torch.save(feature_extractor, \"best_target_encoder\")\n",
        "        print(f\"Best target encoder saved at epoch {epoch_idx} with rmse_val {rmse_t_val.item():.5f}\")\n",
        "\n",
        "\n",
        "      print(f'[{epoch_idx+1}/{n_epochs}] ' f' discriminator_acc: {np.mean(discriminator_acc):.4f}'\n",
        "      f' encoder_loss: {np.mean(loss_encoder_t):.4f}' f' rmse_val: {rmse_t_val.item():.4f}'\n",
        "                )\n"
      ],
      "execution_count": null,
      "outputs": []
    },
    {
      "cell_type": "code",
      "metadata": {
        "id": "_SLZqdifsgyR"
      },
      "source": [
        "def fit_adapt(encoder_s, rul_predictor_s, discriminator, dataloader_s, dataloader_t, epochs, learning_rate, data_num):\n",
        "    device = \"cuda\" if torch.cuda.is_available() else \"cpu\"\n",
        "    liveloss = PlotLosses()\n",
        "    encoder.to(device)\n",
        "    rul_predictor.to(device)\n",
        "    optimizer = torch.optim.Adam(list(encoder.parameters()) + list(discriminator.parameters()), lr=learning_rate,weight_decay=0)\n",
        "    criterion = torch.nn.MSELoss()\n",
        "    criterion_dicriminator = torch.nn.BCELoss()\n",
        "    best_loss = 100\n",
        "    for epoch in range(1, epochs+1):\n",
        "        encoder.train()\n",
        "        rul_predictor.train()\n",
        "        train_loss = []\n",
        "        eval_loss = []\n",
        "        logs = {}\n",
        "        for batch in dataloader['train']:\n",
        "            X, y = batch\n",
        "            X, y = X.to(device), y.to(device)\n",
        "            optimizer.zero_grad()\n",
        "            h_hat = encoder(X)\n",
        "            y_hat = rul_predictor(h_hat)\n",
        "            loss = criterion(y_hat, y)\n",
        "            loss.backward()\n",
        "            optimizer.step()\n",
        "            train_loss.append(loss.item())\n",
        "        encoder.eval()\n",
        "        rul_predictor.eval()\n",
        "        with torch.no_grad():\n",
        "          for batch in dataloader['test']:\n",
        "            X, y = batch\n",
        "            X, y = X.to(device), y.to(device)\n",
        "            h_hat = encoder(X)\n",
        "            y_hat = rul_predictor(h_hat)\n",
        "            loss = criterion(y_hat, y)\n",
        "            eval_loss.append(loss.item())\n",
        "\n",
        "            rmse_train = np.sqrt(np.mean(train_loss))\n",
        "            rmse_val = np.sqrt(np.mean(eval_loss))\n",
        "\n",
        "          logs[\"loss\"] = rmse_train\n",
        "          logs[\"val_loss\"] = rmse_val\n",
        "\n",
        "          liveloss.update(logs)\n",
        "          liveloss.send()\n",
        "\n",
        "          if epoch > 25 :\n",
        "            if best_loss > rmse_val:\n",
        "              best_loss = rmse_val\n",
        "              torch.save(encoder.state_dict(), f\"models/fd00{data_num}/encoder_fd00{data_num}_rmse_{rmse_val}\")\n",
        "              torch.save(rul_predictor.state_dict(), f\"models/fd00{data_num}/rul_predictor_fd00{data_num}_rmse_{rmse_val}\")\n",
        "              print(f'best model saved with rmse = {rmse_val} at epoch {epoch}')\n"
      ],
      "execution_count": null,
      "outputs": []
    }
  ]
}