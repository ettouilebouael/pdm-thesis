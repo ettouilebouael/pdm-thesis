{
  "nbformat": 4,
  "nbformat_minor": 0,
  "metadata": {
    "colab": {
      "name": "FD001 - Turbo Fan RUL estimation with LSTM.ipynb",
      "provenance": [],
      "collapsed_sections": [],
      "authorship_tag": "ABX9TyPpSn2nwA6rlt+VFISIy813",
      "include_colab_link": true
    },
    "kernelspec": {
      "display_name": "Python 3",
      "name": "python3"
    },
    "language_info": {
      "name": "python"
    },
    "accelerator": "GPU"
  },
  "cells": [
    {
      "cell_type": "markdown",
      "metadata": {
        "id": "view-in-github",
        "colab_type": "text"
      },
      "source": [
        "<a href=\"https://colab.research.google.com/github/ettouilebouael/pdm-thesis/blob/main/FD001_Turbo_Fan_RUL_estimation_with_LSTM_V2.ipynb\" target=\"_parent\"><img src=\"https://colab.research.google.com/assets/colab-badge.svg\" alt=\"Open In Colab\"/></a>"
      ]
    },
    {
      "cell_type": "code",
      "metadata": {
        "colab": {
          "base_uri": "https://localhost:8080/"
        },
        "id": "rQToNBEqHiJu",
        "outputId": "6648d83c-62c7-4f5f-a5c1-9075d9ca68cb"
      },
      "source": [
        "!pip install livelossplot --quiet\n",
        "\n",
        "from google.colab import drive\n",
        "import os\n",
        "import pandas as pd\n",
        "import numpy as np\n",
        "import matplotlib.pyplot as plt\n",
        "from sklearn.preprocessing import StandardScaler, MinMaxScaler\n",
        "from skimage.restoration import denoise_wavelet\n",
        "import torch\n",
        "from torch.utils.data import Dataset, DataLoader\n",
        "from torch import nn\n",
        "import torch.nn.functional as F\n",
        "from livelossplot import PlotLosses\n",
        "import warnings\n",
        "\n",
        "warnings.filterwarnings(\"ignore\")\n",
        "drive.mount('/content/drive')\n",
        "os.chdir(\"/content/drive/MyDrive/Memoire/PdM_code\")"
      ],
      "execution_count": 1,
      "outputs": [
        {
          "output_type": "stream",
          "name": "stdout",
          "text": [
            "Mounted at /content/drive\n"
          ]
        }
      ]
    },
    {
      "cell_type": "code",
      "metadata": {
        "id": "Hav5z35BqC1i"
      },
      "source": [
        "def load_data(data_num, online = False):\n",
        "  sensor_col_names = ['s_%i' % i for i in range(1,22)]\n",
        "  col_names = ['unit_number', 'time_in_cycles', 'setting_1', 'setting_2','setting_3'] + sensor_col_names\n",
        "  \n",
        "  train_path = \"CMAPSSData/train_FD00{}.txt\".format(str(data_num))\n",
        "  test_path = \"CMAPSSData/test_FD00{}.txt\".format(str(data_num))\n",
        "  RUL_path = \"CMAPSSData/RUL_FD00{}.txt\".format(str(data_num))\n",
        "\n",
        "  if online == True:\n",
        "    test  = pd.read_csv(test_path , sep = \"\\s+\", header=None, names = col_names, index_col=False).dropna(axis = 1)\n",
        "    RUL_test = pd.read_csv(RUL_path, sep = \"\\s+\", header= None, names = [\"true_rul\"], index_col= False).reset_index().rename(columns = {\"index\" :\"unit_number\"})\n",
        "    RUL_test.unit_number = RUL_test.unit_number + 1 \n",
        "    return test , RUL_test\n",
        "  else:\n",
        "    train  = pd.read_csv(train_path , sep = \" \", header=None, names = col_names, index_col=False).dropna(axis = 1)\n",
        "    return train\n",
        "\n",
        "def compute_rul(df):\n",
        "    a = df[['unit_number' , 'time_in_cycles']].groupby('unit_number').max()\n",
        "    a = a.rename({\"time_in_cycles\" : \"max_cyles\"}, axis = 1)\n",
        "    b = df.join(a, on = 'unit_number', how='outer', lsuffix=\" \")\n",
        "    df['rul'] = b.max_cyles - b.time_in_cycles\n",
        "    df['rul'] = df['rul'].clip(upper = 125)\n",
        "    return df\n",
        "\n",
        "def gen_sequence(df, unit, seq_len, features):\n",
        "  X =  df[df.unit_number == unit][features].values\n",
        "  num_elements = X.shape[0]\n",
        "  for start, stop in zip(range(0, num_elements-seq_len + 1), range(seq_len, num_elements +1)):\n",
        "       yield X[start:stop]\n",
        "\n",
        "def gen_labels(df, seq_len):\n",
        "    y = df['rul'].values\n",
        "    return y[seq_len - 1:]\n",
        "\n",
        "def get_lstm_data(df, features, seq_len):\n",
        "  X = [[seq.tolist() for seq in gen_sequence(df,unit ,seq_len,features)] for unit in df.unit_number.unique() if len(df[df.unit_number == unit]) > seq_len]\n",
        "  y = [gen_labels(df[df.unit_number == unit], seq_len).tolist() for unit in df.unit_number.unique() if len(df[df.unit_number == unit]) > seq_len]\n",
        "\n",
        "  return np.concatenate(X).astype(float), np.concatenate(y).astype(float)\n",
        "\n",
        "def condition_scaler(df):\n",
        "  scaler = StandardScaler()\n",
        "  sensor_col_names = ['s_%i' % i for i in range(1,22)]\n",
        "\n",
        "  df['setting_1'] = df['setting_1'].round(1)\n",
        "  df['setting_2'] = df['setting_2'].round(1)\n",
        "  df['setting_3'] = df['setting_3'].round(1)\n",
        "  \n",
        "  df['op_cond'] = df['setting_1'].astype(str) + '_' + \\\n",
        "                    df['setting_2'].astype(str) + '_' + \\\n",
        "                      df['setting_3'].astype(str)\n",
        "\n",
        "  for condition in df['op_cond'].unique():\n",
        "      scaler.fit(df.loc[df['op_cond']==condition, sensor_col_names])\n",
        "      df.loc[df['op_cond']==condition, sensor_col_names] = scaler.transform(df.loc[df['op_cond']==condition, sensor_col_names])\n",
        "    \n",
        "  return df\n",
        "\n",
        "def exponential_smoothing(df, sensors):\n",
        "    df[sensors] = df.groupby('unit_number')[sensors].apply(lambda x: x.ewm(30).mean()).values\n",
        "    return df\n",
        "\n",
        "def denoise(df, features):\n",
        "  for var in features:\n",
        "    for unit in df.unit_number.unique():\n",
        "     signal = df[df.unit_number == unit][var].values\n",
        "     signal = denoise_wavelet(signal,wavelet='sym2', mode='soft', wavelet_levels=4, rescale_sigma=True)\n",
        "     df.loc[df.unit_number == unit,var] = signal\n",
        "  return df\n",
        "\n",
        "def train_preprocessing(data_num,features, seq_len):\n",
        "  train = load_data(data_num)\n",
        "  X = compute_rul(train)\n",
        "  X = denoise(X,features)\n",
        "  X = condition_scaler(X)\n",
        "  X_train, y_train = get_lstm_data(X, features, seq_len)\n",
        "  return X_train, y_train\n",
        "\n",
        "def get_online_test_unit(df, features, seq_len):\n",
        "  X = []\n",
        "  for i in features:\n",
        "    online_test_unit = []\n",
        "    x = []\n",
        "    for unit in df.unit_number.unique():\n",
        "      signal = df[i][df.unit_number == unit].values.tolist()\n",
        "      if len(signal) >= seq_len :\n",
        "        x.append(signal[-seq_len:])\n",
        "        online_test_unit.append(unit)\n",
        "    X.append(x)\n",
        "  return np.array(X).transpose(1,2,0), list(set(online_test_unit))\n",
        "\n",
        "def online_preprocessing(data_num, features, seq_len):\n",
        "  online_df , rul = load_data(data_num=data_num, online = True)\n",
        "  X = denoise(online_df,features)\n",
        "  X_online_scaled = condition_scaler(online_df)\n",
        "  X_online, online_test_unit = get_online_test_unit(X_online_scaled, features, seq_len)\n",
        "  y_online = rul.true_rul[rul.unit_number.isin(online_test_unit)].clip(upper = 125).values\n",
        "  return X_online , y_online\n",
        "\n",
        "def get_online_indexes(df,seq_len):\n",
        "  ids = []\n",
        "  for unit in df.unit_number.unique():\n",
        "    if len(df[df.unit_number == unit]) > seq_len :\n",
        "      indexes = df[df.unit_number == unit].index.values\n",
        "      indexes = indexes[seq_len - 1:]\n",
        "      ids.extend(indexes)\n",
        "  return ids\n",
        " \n",
        "def annotate_online_data(X,y):\n",
        "  rul = []\n",
        "  for unit in X.unit_number.unique():\n",
        "    last_rul = y[y.unit_number == unit].true_rul.values[0]\n",
        "    first_rul = last_rul + len(X[X.unit_number == unit]) + 1\n",
        "    unit_rul = np.arange(first_rul, last_rul + 1, -1).tolist()\n",
        "    rul.extend(unit_rul)\n",
        "  return np.array(rul).clip(1,125)\n",
        "\n",
        "def get_online_unit(df, seq_len):\n",
        "  units = []\n",
        "  for unit in df.unit_number.unique():\n",
        "    if len(df[df.unit_number == unit]) > seq_len:\n",
        "      units.extend(unit)\n",
        "  return units\n",
        "\n",
        "def online_pipeline(data_num,features, seq_len):\n",
        "  online_df , y = load_data(data_num,online=True)\n",
        "  online_df[\"rul\"] = annotate_online_data(online_df , y)\n",
        "  warnings.filterwarnings(\"ignore\")\n",
        "  online_df = denoise(online_df,features)\n",
        "  online_df = condition_scaler(online_df)\n",
        "  ids_in = get_online_indexes(online_df, seq_len)\n",
        "  ids_all = online_df.index.values\n",
        "  online_df_pred = online_df[np.isin(ids_all,ids_in)]\n",
        "  X , y = get_lstm_data(online_df, features, seq_len)\n",
        "  return X, y , online_df_pred\n"
      ],
      "execution_count": 2,
      "outputs": []
    },
    {
      "cell_type": "code",
      "metadata": {
        "id": "T4Nod4unuAgv",
        "outputId": "20dc1229-2b41-42b6-ad95-5a953450eb32",
        "colab": {
          "base_uri": "https://localhost:8080/",
          "height": 317
        }
      },
      "source": [
        "features =['s_2', 's_3', 's_4', 's_7', 's_8', 's_9','s_11', 's_12', 's_13', 's_14', 's_15', 's_17', 's_20', 's_21']\n",
        "\n",
        "seq_len = 30\n",
        "data_num = 1\n",
        "batch_size = 128\n",
        "learning_rate = 1e-4\n",
        "epochs = 15\n",
        "dropout = 0.2\n",
        "input_size = len(features)\n",
        "n_lstm_layers = 3\n",
        "n_hidden_lstm = 32\n",
        "\n",
        "X_train, y_train = train_preprocessing(data_num,features, seq_len)\n",
        "X_test, y_test, _ = online_pipeline(data_num,features, seq_len)"
      ],
      "execution_count": 3,
      "outputs": [
        {
          "output_type": "error",
          "ename": "NameError",
          "evalue": "ignored",
          "traceback": [
            "\u001b[0;31m---------------------------------------------------------------------------\u001b[0m",
            "\u001b[0;31mNameError\u001b[0m                                 Traceback (most recent call last)",
            "\u001b[0;32m<ipython-input-3-40c1e523c289>\u001b[0m in \u001b[0;36m<module>\u001b[0;34m()\u001b[0m\n\u001b[1;32m     12\u001b[0m \u001b[0;34m\u001b[0m\u001b[0m\n\u001b[1;32m     13\u001b[0m \u001b[0mX_train\u001b[0m\u001b[0;34m,\u001b[0m \u001b[0my_train\u001b[0m \u001b[0;34m=\u001b[0m \u001b[0mtrain_preprocessing\u001b[0m\u001b[0;34m(\u001b[0m\u001b[0mdata_num\u001b[0m\u001b[0;34m,\u001b[0m\u001b[0mfeatures\u001b[0m\u001b[0;34m,\u001b[0m \u001b[0mseq_len\u001b[0m\u001b[0;34m)\u001b[0m\u001b[0;34m\u001b[0m\u001b[0;34m\u001b[0m\u001b[0m\n\u001b[0;32m---> 14\u001b[0;31m \u001b[0mX_test\u001b[0m\u001b[0;34m,\u001b[0m \u001b[0my_test\u001b[0m\u001b[0;34m,\u001b[0m \u001b[0m_\u001b[0m \u001b[0;34m=\u001b[0m \u001b[0monline_pipeline\u001b[0m\u001b[0;34m(\u001b[0m\u001b[0mdata_num\u001b[0m\u001b[0;34m,\u001b[0m\u001b[0mfeatures\u001b[0m\u001b[0;34m,\u001b[0m \u001b[0mseq_len\u001b[0m\u001b[0;34m)\u001b[0m\u001b[0;34m\u001b[0m\u001b[0;34m\u001b[0m\u001b[0m\n\u001b[0m",
            "\u001b[0;32m<ipython-input-2-64a4cfed56a1>\u001b[0m in \u001b[0;36monline_pipeline\u001b[0;34m(data_num, features, seq_len)\u001b[0m\n\u001b[1;32m    125\u001b[0m   \u001b[0monline_df\u001b[0m \u001b[0;34m,\u001b[0m \u001b[0my\u001b[0m \u001b[0;34m=\u001b[0m \u001b[0mload_data\u001b[0m\u001b[0;34m(\u001b[0m\u001b[0mdata_num\u001b[0m\u001b[0;34m,\u001b[0m\u001b[0monline\u001b[0m\u001b[0;34m=\u001b[0m\u001b[0;32mTrue\u001b[0m\u001b[0;34m)\u001b[0m\u001b[0;34m\u001b[0m\u001b[0;34m\u001b[0m\u001b[0m\n\u001b[1;32m    126\u001b[0m   \u001b[0monline_df\u001b[0m\u001b[0;34m[\u001b[0m\u001b[0;34m\"rul\"\u001b[0m\u001b[0;34m]\u001b[0m \u001b[0;34m=\u001b[0m \u001b[0mannotate_online_data\u001b[0m\u001b[0;34m(\u001b[0m\u001b[0monline_df\u001b[0m \u001b[0;34m,\u001b[0m \u001b[0my\u001b[0m\u001b[0;34m)\u001b[0m\u001b[0;34m\u001b[0m\u001b[0;34m\u001b[0m\u001b[0m\n\u001b[0;32m--> 127\u001b[0;31m   \u001b[0mwarnings\u001b[0m\u001b[0;34m.\u001b[0m\u001b[0mfilterwarnings\u001b[0m\u001b[0;34m(\u001b[0m\u001b[0;34m\"ignore\"\u001b[0m\u001b[0;34m)\u001b[0m\u001b[0;34m\u001b[0m\u001b[0;34m\u001b[0m\u001b[0m\n\u001b[0m\u001b[1;32m    128\u001b[0m   \u001b[0monline_df\u001b[0m \u001b[0;34m=\u001b[0m \u001b[0mdenoise\u001b[0m\u001b[0;34m(\u001b[0m\u001b[0monline_df\u001b[0m\u001b[0;34m,\u001b[0m\u001b[0mfeatures\u001b[0m\u001b[0;34m)\u001b[0m\u001b[0;34m\u001b[0m\u001b[0;34m\u001b[0m\u001b[0m\n\u001b[1;32m    129\u001b[0m   \u001b[0monline_df\u001b[0m \u001b[0;34m=\u001b[0m \u001b[0mcondition_scaler\u001b[0m\u001b[0;34m(\u001b[0m\u001b[0monline_df\u001b[0m\u001b[0;34m)\u001b[0m\u001b[0;34m\u001b[0m\u001b[0;34m\u001b[0m\u001b[0m\n",
            "\u001b[0;31mNameError\u001b[0m: name 'warnings' is not defined"
          ]
        }
      ]
    },
    {
      "cell_type": "code",
      "metadata": {
        "id": "xqMhtBO3aK-O"
      },
      "source": [
        "class TurboFanDataset(Dataset):\n",
        "  def __init__(self, X, y):\n",
        "    self.X, self.y = X, y\n",
        "    \n",
        "  def __len__(self):\n",
        "    return self.X.shape[0]\n",
        "\n",
        "  def __getitem__(self, ix):\n",
        "    return torch.from_numpy(self.X[ix,:,:]).float() , torch.from_numpy(np.array(self.y[ix])).float()\n",
        "\n",
        "dataset = {\n",
        "    'train': TurboFanDataset(X_train, y_train),\n",
        "    'test': TurboFanDataset(X_test, y_test)}\n",
        "\n",
        "dataloader = {\n",
        "    'train': DataLoader(dataset['train'], shuffle=True, batch_size=batch_size),\n",
        "     'test': DataLoader(dataset['test'], shuffle=True, batch_size=batch_size)}\n"
      ],
      "execution_count": null,
      "outputs": []
    },
    {
      "cell_type": "code",
      "metadata": {
        "colab": {
          "base_uri": "https://localhost:8080/"
        },
        "id": "j29CjvR74wSx",
        "outputId": "9765ebd3-ff98-41d4-9e1e-4e04d78c5455"
      },
      "source": [
        "class RULPredictor(torch.nn.Module):\n",
        "  def __init__(self):\n",
        "    super().__init__()\n",
        "    self.lstm = nn.LSTM(input_size=input_size, hidden_size=n_hidden_lstm, num_layers = n_lstm_layers, batch_first = True, dropout = dropout)\n",
        "    self.fc1 = torch.nn.Linear(n_hidden_lstm, 64)\n",
        "    self.fc2 = torch.nn.Linear(64, 32)\n",
        "    self.fc3 = torch.nn.Linear(32, 16)\n",
        "    self.output = torch.nn.Linear(16, 1)\n",
        "    self.dropout = torch.nn.Dropout(p=dropout)\n",
        "    \n",
        "  def forward(self, x):\n",
        "    output, (h, c) = self.lstm(x)\n",
        "    x = self.fc1(h[-1].reshape(-1,n_hidden_lstm))\n",
        "    x = F.relu(x)\n",
        "    x = self.dropout(x)\n",
        "    x = self.fc2(x)\n",
        "    x = F.relu(x)\n",
        "    x = self.dropout(x)\n",
        "    x = self.fc3(x)\n",
        "    x = F.relu(x)\n",
        "    x = self.dropout(x)\n",
        "    x = self.output(x)\n",
        "    return x\n",
        "\n",
        "model = RULPredictor()\n",
        "model(torch.randn(batch_size, seq_len, input_size)).shape"
      ],
      "execution_count": 4,
      "outputs": [
        {
          "output_type": "execute_result",
          "data": {
            "text/plain": [
              "torch.Size([128, 1])"
            ]
          },
          "metadata": {},
          "execution_count": 4
        }
      ]
    },
    {
      "cell_type": "code",
      "metadata": {
        "colab": {
          "base_uri": "https://localhost:8080/",
          "height": 636
        },
        "id": "2m5DrJp_5ZYm",
        "outputId": "5c5b5bdd-3d2c-443c-a436-1eb33baa7e9f"
      },
      "source": [
        "\n",
        "def fit(model, dataloader, epochs=10):\n",
        "    device = \"cuda\" if torch.cuda.is_available() else \"cpu\"\n",
        "    liveloss = PlotLosses()\n",
        "    model.to(device)\n",
        "    optimizer = torch.optim.Adam(model.parameters(), lr=learning_rate)\n",
        "    criterion = torch.nn.MSELoss()\n",
        "    for epoch in range(1, epochs+1):\n",
        "        model.train()\n",
        "        train_loss = []\n",
        "        eval_loss = []\n",
        "        logs = {}\n",
        "        for batch in dataloader['train']:\n",
        "            X, y = batch\n",
        "            X, y = X.to(device), y.to(device)\n",
        "            optimizer.zero_grad()\n",
        "            y_hat = model(X)\n",
        "            loss = criterion(y_hat, y.reshape(-1,1))\n",
        "            loss.backward()\n",
        "            optimizer.step()\n",
        "            train_loss.append(loss.item())\n",
        "        model.eval()\n",
        "        with torch.no_grad():\n",
        "          for batch in dataloader['test']:\n",
        "            X, y = batch\n",
        "            X, y = X.to(device), y.to(device)\n",
        "            y_hat = model(X)\n",
        "            loss = criterion(y_hat, y.reshape(-1,1))\n",
        "            eval_loss.append(loss.item())\n",
        "\n",
        "          logs[\"loss\"] = np.sqrt(np.mean(train_loss))\n",
        "          logs[\"val_loss\"] = np.sqrt(np.mean(eval_loss))\n",
        "\n",
        "      \n",
        "          liveloss.update(logs)\n",
        "          liveloss.send()\n",
        "\n",
        "fit(model, dataloader, epochs =40)"
      ],
      "execution_count": null,
      "outputs": [
        {
          "output_type": "display_data",
          "data": {
            "image/png": "[encoded data removed]",
            "text/plain": [
              "<Figure size 864x576 with 2 Axes>"
            ]
          },
          "metadata": {
            "needs_background": "light"
          }
        },
        {
          "output_type": "stream",
          "name": "stdout",
          "text": [
            "Loss\n",
            "\ttraining         \t (min:   22.449, max:   90.844, cur:   22.524)\n",
            "\tvalidation       \t (min:   24.590, max:   84.328, cur:   24.940)\n"
          ]
        }
      ]
    },
    {
      "cell_type": "code",
      "metadata": {
        "colab": {
          "base_uri": "https://localhost:8080/",
          "height": 341
        },
        "id": "DY5qdMN52jdP",
        "outputId": "88286733-f366-4878-cbf8-2059219db3c7"
      },
      "source": [
        "def plot_test_predictions(model,data_num,features, seq_len):\n",
        "  X , y , online_df_pred = online_pipeline(data_num, features, seq_len)\n",
        "  loss = torch.nn.MSELoss()\n",
        "  model.eval()\n",
        "  model.to(device)\n",
        "  with torch.no_grad():\n",
        "    X = torch.from_numpy(X).float().to(device)\n",
        "    y = torch.from_numpy(y).float().to(device)\n",
        "    y_pred = model(X)\n",
        "    mse = loss(y_pred, y.reshape(-1,1))\n",
        "    online_df_pred.loc[:,'rul_pred'] = y_pred.cpu().numpy()\n",
        "\n",
        "  fig, axs = plt.subplots(3, 3, figsize=(30,10))\n",
        "  fig.suptitle('Predicted RUL vs Real RUL')\n",
        "  axs[0,0].plot(online_df_pred[online_df_pred.unit_number ==  100]['rul'])\n",
        "  axs[0,0].plot(online_df_pred[online_df_pred.unit_number ==  100]['rul_pred'])\n",
        "  axs[0,0].set_title('Test unit n° 100')\n",
        "  axs[0,1].plot(online_df_pred[online_df_pred.unit_number == 32]['rul'])\n",
        "  axs[0,1].plot(online_df_pred[online_df_pred.unit_number == 32]['rul_pred'])\n",
        "  axs[0,1].set_title('Test unit n° 32')\n",
        "  axs[0,2].plot(online_df_pred[online_df_pred.unit_number ==  16]['rul'])\n",
        "  axs[0,2].plot(online_df_pred[online_df_pred.unit_number ==  16]['rul_pred'])\n",
        "  axs[0,2].set_title('Test unit n° 16')\n",
        "  axs[1,0].plot(online_df_pred[online_df_pred.unit_number == 24]['rul'])\n",
        "  axs[1,0].plot(online_df_pred[online_df_pred.unit_number == 24]['rul_pred'])\n",
        "  axs[1,0].set_title('Test unit n° 24')\n",
        "  axs[1,2].plot(online_df_pred[online_df_pred.unit_number ==  31]['rul'])\n",
        "  axs[1,2].plot(online_df_pred[online_df_pred.unit_number ==  31]['rul_pred'])\n",
        "  axs[1,2].set_title('Test unit n° 32')\n",
        "  axs[1,1].plot(online_df_pred[online_df_pred.unit_number == 35]['rul'])\n",
        "  axs[1,1].plot(online_df_pred[online_df_pred.unit_number == 35]['rul_pred'])\n",
        "  axs[1,1].set_title('Test unit n° 35')\n",
        "  axs[2,1].plot(online_df_pred[online_df_pred.unit_number ==  40]['rul'])\n",
        "  axs[2,1].plot(online_df_pred[online_df_pred.unit_number ==  40]['rul_pred'])\n",
        "  axs[2,1].set_title('Test unit n° 40')\n",
        "  axs[2,0].plot(online_df_pred[online_df_pred.unit_number == 49]['rul'])\n",
        "  axs[2,0].plot(online_df_pred[online_df_pred.unit_number == 49]['rul_pred'])\n",
        "  axs[2,0].set_title('Test unit n° 49')\n",
        "  axs[2,2].plot(online_df_pred[online_df_pred.unit_number ==  52]['rul'])\n",
        "  axs[2,2].plot(online_df_pred[online_df_pred.unit_number ==  52]['rul_pred'])\n",
        "  axs[2,2].set_title('Test unit n° 52')\n",
        "  plt.plot( )\n",
        "  \n",
        "  print('rmse :', np.sqrt(mse.item()))\n",
        "\n",
        "plot_test_predictions(model,data_num,features,seq_len)"
      ],
      "execution_count": 5,
      "outputs": [
        {
          "output_type": "error",
          "ename": "NameError",
          "evalue": "ignored",
          "traceback": [
            "\u001b[0;31m---------------------------------------------------------------------------\u001b[0m",
            "\u001b[0;31mNameError\u001b[0m                                 Traceback (most recent call last)",
            "\u001b[0;32m<ipython-input-5-cf85e6c33440>\u001b[0m in \u001b[0;36m<module>\u001b[0;34m()\u001b[0m\n\u001b[1;32m     44\u001b[0m   \u001b[0mprint\u001b[0m\u001b[0;34m(\u001b[0m\u001b[0;34m'rmse :'\u001b[0m\u001b[0;34m,\u001b[0m \u001b[0mnp\u001b[0m\u001b[0;34m.\u001b[0m\u001b[0msqrt\u001b[0m\u001b[0;34m(\u001b[0m\u001b[0mmse\u001b[0m\u001b[0;34m.\u001b[0m\u001b[0mitem\u001b[0m\u001b[0;34m(\u001b[0m\u001b[0;34m)\u001b[0m\u001b[0;34m)\u001b[0m\u001b[0;34m)\u001b[0m\u001b[0;34m\u001b[0m\u001b[0;34m\u001b[0m\u001b[0m\n\u001b[1;32m     45\u001b[0m \u001b[0;34m\u001b[0m\u001b[0m\n\u001b[0;32m---> 46\u001b[0;31m \u001b[0mplot_test_predictions\u001b[0m\u001b[0;34m(\u001b[0m\u001b[0mmodel\u001b[0m\u001b[0;34m,\u001b[0m\u001b[0mdata_num\u001b[0m\u001b[0;34m,\u001b[0m\u001b[0mfeatures\u001b[0m\u001b[0;34m,\u001b[0m\u001b[0mseq_len\u001b[0m\u001b[0;34m)\u001b[0m\u001b[0;34m\u001b[0m\u001b[0;34m\u001b[0m\u001b[0m\n\u001b[0m",
            "\u001b[0;32m<ipython-input-5-cf85e6c33440>\u001b[0m in \u001b[0;36mplot_test_predictions\u001b[0;34m(model, data_num, features, seq_len)\u001b[0m\n\u001b[1;32m      1\u001b[0m \u001b[0;32mdef\u001b[0m \u001b[0mplot_test_predictions\u001b[0m\u001b[0;34m(\u001b[0m\u001b[0mmodel\u001b[0m\u001b[0;34m,\u001b[0m\u001b[0mdata_num\u001b[0m\u001b[0;34m,\u001b[0m\u001b[0mfeatures\u001b[0m\u001b[0;34m,\u001b[0m \u001b[0mseq_len\u001b[0m\u001b[0;34m)\u001b[0m\u001b[0;34m:\u001b[0m\u001b[0;34m\u001b[0m\u001b[0;34m\u001b[0m\u001b[0m\n\u001b[0;32m----> 2\u001b[0;31m   \u001b[0mX\u001b[0m \u001b[0;34m,\u001b[0m \u001b[0my\u001b[0m \u001b[0;34m,\u001b[0m \u001b[0monline_df_pred\u001b[0m \u001b[0;34m=\u001b[0m \u001b[0monline_pipeline\u001b[0m\u001b[0;34m(\u001b[0m\u001b[0mdata_num\u001b[0m\u001b[0;34m,\u001b[0m \u001b[0mfeatures\u001b[0m\u001b[0;34m,\u001b[0m \u001b[0mseq_len\u001b[0m\u001b[0;34m)\u001b[0m\u001b[0;34m\u001b[0m\u001b[0;34m\u001b[0m\u001b[0m\n\u001b[0m\u001b[1;32m      3\u001b[0m   \u001b[0mloss\u001b[0m \u001b[0;34m=\u001b[0m \u001b[0mtorch\u001b[0m\u001b[0;34m.\u001b[0m\u001b[0mnn\u001b[0m\u001b[0;34m.\u001b[0m\u001b[0mMSELoss\u001b[0m\u001b[0;34m(\u001b[0m\u001b[0;34m)\u001b[0m\u001b[0;34m\u001b[0m\u001b[0;34m\u001b[0m\u001b[0m\n\u001b[1;32m      4\u001b[0m   \u001b[0mmodel\u001b[0m\u001b[0;34m.\u001b[0m\u001b[0meval\u001b[0m\u001b[0;34m(\u001b[0m\u001b[0;34m)\u001b[0m\u001b[0;34m\u001b[0m\u001b[0;34m\u001b[0m\u001b[0m\n\u001b[1;32m      5\u001b[0m   \u001b[0mmodel\u001b[0m\u001b[0;34m.\u001b[0m\u001b[0mto\u001b[0m\u001b[0;34m(\u001b[0m\u001b[0mdevice\u001b[0m\u001b[0;34m)\u001b[0m\u001b[0;34m\u001b[0m\u001b[0;34m\u001b[0m\u001b[0m\n",
            "\u001b[0;32m<ipython-input-2-64a4cfed56a1>\u001b[0m in \u001b[0;36monline_pipeline\u001b[0;34m(data_num, features, seq_len)\u001b[0m\n\u001b[1;32m    125\u001b[0m   \u001b[0monline_df\u001b[0m \u001b[0;34m,\u001b[0m \u001b[0my\u001b[0m \u001b[0;34m=\u001b[0m \u001b[0mload_data\u001b[0m\u001b[0;34m(\u001b[0m\u001b[0mdata_num\u001b[0m\u001b[0;34m,\u001b[0m\u001b[0monline\u001b[0m\u001b[0;34m=\u001b[0m\u001b[0;32mTrue\u001b[0m\u001b[0;34m)\u001b[0m\u001b[0;34m\u001b[0m\u001b[0;34m\u001b[0m\u001b[0m\n\u001b[1;32m    126\u001b[0m   \u001b[0monline_df\u001b[0m\u001b[0;34m[\u001b[0m\u001b[0;34m\"rul\"\u001b[0m\u001b[0;34m]\u001b[0m \u001b[0;34m=\u001b[0m \u001b[0mannotate_online_data\u001b[0m\u001b[0;34m(\u001b[0m\u001b[0monline_df\u001b[0m \u001b[0;34m,\u001b[0m \u001b[0my\u001b[0m\u001b[0;34m)\u001b[0m\u001b[0;34m\u001b[0m\u001b[0;34m\u001b[0m\u001b[0m\n\u001b[0;32m--> 127\u001b[0;31m   \u001b[0mwarnings\u001b[0m\u001b[0;34m.\u001b[0m\u001b[0mfilterwarnings\u001b[0m\u001b[0;34m(\u001b[0m\u001b[0;34m\"ignore\"\u001b[0m\u001b[0;34m)\u001b[0m\u001b[0;34m\u001b[0m\u001b[0;34m\u001b[0m\u001b[0m\n\u001b[0m\u001b[1;32m    128\u001b[0m   \u001b[0monline_df\u001b[0m \u001b[0;34m=\u001b[0m \u001b[0mdenoise\u001b[0m\u001b[0;34m(\u001b[0m\u001b[0monline_df\u001b[0m\u001b[0;34m,\u001b[0m\u001b[0mfeatures\u001b[0m\u001b[0;34m)\u001b[0m\u001b[0;34m\u001b[0m\u001b[0;34m\u001b[0m\u001b[0m\n\u001b[1;32m    129\u001b[0m   \u001b[0monline_df\u001b[0m \u001b[0;34m=\u001b[0m \u001b[0mcondition_scaler\u001b[0m\u001b[0;34m(\u001b[0m\u001b[0monline_df\u001b[0m\u001b[0;34m)\u001b[0m\u001b[0;34m\u001b[0m\u001b[0;34m\u001b[0m\u001b[0m\n",
            "\u001b[0;31mNameError\u001b[0m: name 'warnings' is not defined"
          ]
        }
      ]
    }
  ]
}